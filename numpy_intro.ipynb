







<!DOCTYPE html>
<html lang="en">
  <head>
    <meta charset="utf-8">
    <title></title>

    <meta name="viewport" content="width=device-width, initial-scale=1.0">

    
    <meta name="description" content="">
    

    
    <meta name="author" content="">
    

    <!--NEW RELIC Start Perf Measurement-->
    
    <!--NREND-->

    <!-- Le styles -->
    <!--<link href="/static/css/bootstrap.css" rel="stylesheet">-->
    <link href="/static/css/docs.css" rel="stylesheet">
    <link href="/static/css/bootstrap.min.css" rel="stylesheet">
    <link href="/static/css/bootstrap-responsive.css" rel="stylesheet">
    <link href="/static/components/animate.css/animate.css" rel="stylesheet">
    <link href="/static/components/Font-Awesome/css/font-awesome.min.css" rel="stylesheet">
    <link href="/static/css/nbviewer.css" rel="stylesheet">


    <!-- Le HTML5 shim, for IE6-8 support of HTML5 elements -->
    <!--[if lt IE 9]>
      <script src="http://html5shim.googlecode.com/svn/trunk/html5.js"></script>
    <![endif]-->

    <!-- Le fav and touch icons -->
    <link rel="shortcut icon" href="/static/ico/ipynb_icon_16x16.png">
    <link rel="apple-touch-icon-precomposed" sizes="144x144" href="/static/ico/apple-touch-icon-144-precomposed.png">
    <link rel="apple-touch-icon-precomposed" sizes="114x114" href="/static/ico/apple-touch-icon-114-precomposed.png">
    <link rel="apple-touch-icon-precomposed" sizes="72x72" href="/static/ico/apple-touch-icon-72-precomposed.png">
    <link rel="apple-touch-icon-precomposed" href="/static/ico/apple-touch-icon-57-precomposed.png">
    
    
    

    

    
    <meta name="twitter:card" content="summary">

    
    <meta name="twitter:title" content="Notebook on nbviewer">
    

    
    <meta name="twitter:description" content="Check out this IPython notebook!">
    

    
    <meta name="twitter:domain" content="nbviewer.ipython.org">
    

    <meta name="twitter:image:src" content="http://ipython.org/ipython-doc/dev/_images/ipynb_icon_128x128.png">
    
    
    

    <link href="/ipython-static/style/ipython.min.css" rel="stylesheet">
    <link href="/static/css/pygments.css" rel="stylesheet">
    <style type="text/css" media='screen and (min-width:980px)'>
   
    body {
        padding-top: 40px;
    }

    </style>
    <style type="text/css" >
    .imgwrap {
        text-align: center;
    }

    @media (max-width: 767px){

        div.input, div.output_area {
            -webkit-box-orient: vertical;
            -moz-box-orient: vertical;
            box-orient: vertical;
        }

        div.prompt {
            text-align:left;
        }

    }

    
    </style>
    
    <script src="https://c328740.ssl.cf1.rackcdn.com/mathjax/latest/MathJax.js?config=TeX-AMS_HTML"type="text/javascript">
    </script>
    <script type="text/javascript">
    init_mathjax = function() {
        if (window.MathJax) {
            // MathJax loaded
            MathJax.Hub.Config({
                tex2jax: {
                    inlineMath: [ ['$','$'], ["\\(","\\)"] ],
                    displayMath: [ ['$$','$$'], ["\\[","\\]"] ],
                    processEscapes: true,
                    processEnvironments: true
                },
                displayAlign: 'center',
                "HTML-CSS": {
                    styles: {'.MathJax_Display': {"margin": 0}},
                    linebreaks: { automatic: true }
                }
            });
            MathJax.Hub.Queue(["Typeset",MathJax.Hub]);
        }
    }
    init_mathjax();
    </script>
    
  </head>

  <body data-spy="scroll" data-target=".subnav" data-offset="50">

  <!-- These are loaded at the top of the body so they are available to notebook
  cells when they are loaded below. -->
  <script src="/static/js/jquery.min.js"></script>
  <script src="/static/components/requirejs/require.js"></script>
  <script src="/static/components/moment/min/moment.min.js"></script>

  <!-- Navbar
  ================================================== -->
    <div id='menubar' class="navbar navbar-fixed-top hidden-print">
      <div class="navbar-inner">
        <div class="container">
          <button type="button" class="btn btn-navbar" data-toggle="collapse" data-target=".nav-collapse">
            <span class="icon-bar"></span>
            <span class="icon-bar"></span>
            <span class="icon-bar"></span>
          </button>
          <div class="nav-collapse collapse">
            <ul class="nav">

                <li>
        <a href="/" title="nbviewer" >
            <strong>
            <span>nbviewer</span>
            </strong>
        </a>
    </li>
                <li>
        <a href="/faq" title="FAQ" >
            
            <span>FAQ</span>
            
        </a>
    </li>

              <li class="">
                <a href="http://www.ipython.org">IPython</a>
              </li>
            </ul>
            <ul class="nav pull-right"> 
              
              
      
        <li>
        <a href="http://stat.columbia.edu/%7Elangmore/numpy_intro.ipynb" title="Download Notebook" download>
            <span class='fa fa-download fa-2x menu-icon'></span>
            <span class='menu-text'>Download Notebook</span>
        </a>
    </li>
    
            </ul>
          </div>
        </div>
      </div>
    </div>
    <div class="container">

     
    
    
<div class="cell border-box-sizing code_cell rendered">
<div class="input">
<div class="prompt input_prompt">
In&nbsp;[2]:
</div>
<div class="inner_cell">
    <div class="input_area">
<div class=" highlight hl-ipython"><pre><span class="kn">import</span> <span class="nn">numpy</span> <span class="kn">as</span> <span class="nn">np</span>
</pre></div>

</div>
</div>
</div>

</div>
<div class="cell border-box-sizing code_cell rendered">
<div class="input">
<div class="prompt input_prompt">
In&nbsp;[3]:
</div>
<div class="inner_cell">
    <div class="input_area">
<div class=" highlight hl-ipython"><pre><span class="n">lst</span> <span class="o">=</span> <span class="p">[</span><span class="mi">1</span><span class="p">,</span> <span class="mi">2</span><span class="p">,</span> <span class="mi">3</span><span class="p">,</span> <span class="mi">4</span><span class="p">]</span>
</pre></div>

</div>
</div>
</div>

</div>
<div class="cell border-box-sizing code_cell rendered">
<div class="input">
<div class="prompt input_prompt">
In&nbsp;[4]:
</div>
<div class="inner_cell">
    <div class="input_area">
<div class=" highlight hl-ipython"><pre><span class="n">lst</span>
</pre></div>

</div>
</div>
</div>

<div class="output_wrapper">
<div class="output">


<div class="output_area"><div class="prompt output_prompt">
    Out[4]:</div>


<div class="output_text output_subarea output_pyout">
<pre>[1, 2, 3, 4]</pre>
</div>

</div>

</div>
</div>

</div>
<div class="cell border-box-sizing code_cell rendered">
<div class="input">
<div class="prompt input_prompt">
In&nbsp;[5]:
</div>
<div class="inner_cell">
    <div class="input_area">
<div class=" highlight hl-ipython"><pre><span class="n">lst</span> <span class="o">=</span> <span class="nb">range</span><span class="p">(</span><span class="mi">100</span><span class="p">)</span>
</pre></div>

</div>
</div>
</div>

</div>
<div class="cell border-box-sizing code_cell rendered">
<div class="input">
<div class="prompt input_prompt">
In&nbsp;[6]:
</div>
<div class="inner_cell">
    <div class="input_area">
<div class=" highlight hl-ipython"><pre><span class="nb">range</span><span class="p">(</span><span class="mi">1</span><span class="p">,</span> <span class="mi">10</span><span class="p">)</span>
</pre></div>

</div>
</div>
</div>

<div class="output_wrapper">
<div class="output">


<div class="output_area"><div class="prompt output_prompt">
    Out[6]:</div>


<div class="output_text output_subarea output_pyout">
<pre>[1, 2, 3, 4, 5, 6, 7, 8, 9]</pre>
</div>

</div>

</div>
</div>

</div>
<div class="cell border-box-sizing code_cell rendered">
<div class="input">
<div class="prompt input_prompt">
In&nbsp;[7]:
</div>
<div class="inner_cell">
    <div class="input_area">
<div class=" highlight hl-ipython"><pre><span class="p">[[</span><span class="mi">1</span><span class="p">,</span> <span class="mi">2</span><span class="p">,</span> <span class="mi">3</span><span class="p">],</span> <span class="p">[</span><span class="mi">4</span><span class="p">,</span> <span class="mi">5</span><span class="p">,</span> <span class="mi">6</span><span class="p">],</span> <span class="p">[</span><span class="mi">7</span><span class="p">,</span> <span class="mi">8</span><span class="p">,</span> <span class="mi">9</span><span class="p">]]</span>
</pre></div>

</div>
</div>
</div>

<div class="output_wrapper">
<div class="output">


<div class="output_area"><div class="prompt output_prompt">
    Out[7]:</div>


<div class="output_text output_subarea output_pyout">
<pre>[[1, 2, 3], [4, 5, 6], [7, 8, 9]]</pre>
</div>

</div>

</div>
</div>

</div>
<div class="cell border-box-sizing code_cell rendered">
<div class="input">
<div class="prompt input_prompt">
In&nbsp;[8]:
</div>
<div class="inner_cell">
    <div class="input_area">
<div class=" highlight hl-ipython"><pre><span class="n">lst</span> <span class="o">=</span> <span class="p">[[</span><span class="mi">1</span><span class="p">,</span> <span class="mi">2</span><span class="p">,</span> <span class="mi">3</span><span class="p">],</span> <span class="p">[</span><span class="mi">4</span><span class="p">,</span> <span class="mi">5</span><span class="p">,</span> <span class="mi">6</span><span class="p">],</span> <span class="p">[</span><span class="mi">7</span><span class="p">,</span> <span class="mi">8</span><span class="p">,</span> <span class="mi">9</span><span class="p">]]</span>
</pre></div>

</div>
</div>
</div>

</div>
<div class="cell border-box-sizing code_cell rendered">
<div class="input">
<div class="prompt input_prompt">
In&nbsp;[9]:
</div>
<div class="inner_cell">
    <div class="input_area">
<div class=" highlight hl-ipython"><pre><span class="n">lst</span><span class="p">[</span><span class="mi">1</span><span class="p">][</span><span class="mi">2</span><span class="p">]</span>
</pre></div>

</div>
</div>
</div>

<div class="output_wrapper">
<div class="output">


<div class="output_area"><div class="prompt output_prompt">
    Out[9]:</div>


<div class="output_text output_subarea output_pyout">
<pre>6</pre>
</div>

</div>

</div>
</div>

</div>
<div class="cell border-box-sizing code_cell rendered">
<div class="input">
<div class="prompt input_prompt">
In&nbsp;[10]:
</div>
<div class="inner_cell">
    <div class="input_area">
<div class=" highlight hl-ipython"><pre><span class="n">lst</span><span class="p">[</span><span class="mi">1</span><span class="p">][</span><span class="mi">1</span><span class="p">:]</span>
</pre></div>

</div>
</div>
</div>

<div class="output_wrapper">
<div class="output">


<div class="output_area"><div class="prompt output_prompt">
    Out[10]:</div>


<div class="output_text output_subarea output_pyout">
<pre>[5, 6]</pre>
</div>

</div>

</div>
</div>

</div>
<div class="cell border-box-sizing code_cell rendered">
<div class="input">
<div class="prompt input_prompt">
In&nbsp;[11]:
</div>
<div class="inner_cell">
    <div class="input_area">
<div class=" highlight hl-ipython"><pre><span class="n">lst</span><span class="p">[</span><span class="mi">2</span><span class="p">][</span><span class="mi">1</span><span class="p">:]</span>
</pre></div>

</div>
</div>
</div>

<div class="output_wrapper">
<div class="output">


<div class="output_area"><div class="prompt output_prompt">
    Out[11]:</div>


<div class="output_text output_subarea output_pyout">
<pre>[8, 9]</pre>
</div>

</div>

</div>
</div>

</div>
<div class="cell border-box-sizing code_cell rendered">
<div class="input">
<div class="prompt input_prompt">
In&nbsp;[12]:
</div>
<div class="inner_cell">
    <div class="input_area">
<div class=" highlight hl-ipython"><pre><span class="n">np</span><span class="o">.</span><span class="n">array</span><span class="p">(</span><span class="n">lst</span><span class="p">)</span>
</pre></div>

</div>
</div>
</div>

<div class="output_wrapper">
<div class="output">


<div class="output_area"><div class="prompt output_prompt">
    Out[12]:</div>


<div class="output_text output_subarea output_pyout">
<pre>array([[1, 2, 3],
       [4, 5, 6],
       [7, 8, 9]])</pre>
</div>

</div>

</div>
</div>

</div>
<div class="cell border-box-sizing code_cell rendered">
<div class="input">
<div class="prompt input_prompt">
In&nbsp;[13]:
</div>
<div class="inner_cell">
    <div class="input_area">
<div class=" highlight hl-ipython"><pre><span class="n">arr</span> <span class="o">=</span> <span class="n">np</span><span class="o">.</span><span class="n">array</span><span class="p">(</span><span class="n">lst</span><span class="p">)</span>
</pre></div>

</div>
</div>
</div>

</div>
<div class="cell border-box-sizing code_cell rendered">
<div class="input">
<div class="prompt input_prompt">
In&nbsp;[14]:
</div>
<div class="inner_cell">
    <div class="input_area">
<div class=" highlight hl-ipython"><pre><span class="n">arr</span>
</pre></div>

</div>
</div>
</div>

<div class="output_wrapper">
<div class="output">


<div class="output_area"><div class="prompt output_prompt">
    Out[14]:</div>


<div class="output_text output_subarea output_pyout">
<pre>array([[1, 2, 3],
       [4, 5, 6],
       [7, 8, 9]])</pre>
</div>

</div>

</div>
</div>

</div>
<div class="cell border-box-sizing code_cell rendered">
<div class="input">
<div class="prompt input_prompt">
In&nbsp;[15]:
</div>
<div class="inner_cell">
    <div class="input_area">
<div class=" highlight hl-ipython"><pre><span class="n">arr</span><span class="p">[</span><span class="mi">1</span><span class="p">:,</span> <span class="p">:</span><span class="mi">2</span><span class="p">]</span>
</pre></div>

</div>
</div>
</div>

<div class="output_wrapper">
<div class="output">


<div class="output_area"><div class="prompt output_prompt">
    Out[15]:</div>


<div class="output_text output_subarea output_pyout">
<pre>array([[4, 5],
       [7, 8]])</pre>
</div>

</div>

</div>
</div>

</div>
<div class="cell border-box-sizing code_cell rendered">
<div class="input">
<div class="prompt input_prompt">
In&nbsp;[16]:
</div>
<div class="inner_cell">
    <div class="input_area">
<div class=" highlight hl-ipython"><pre><span class="n">arr</span><span class="p">[</span><span class="mi">0</span><span class="p">]</span>
</pre></div>

</div>
</div>
</div>

<div class="output_wrapper">
<div class="output">


<div class="output_area"><div class="prompt output_prompt">
    Out[16]:</div>


<div class="output_text output_subarea output_pyout">
<pre>array([1, 2, 3])</pre>
</div>

</div>

</div>
</div>

</div>
<div class="cell border-box-sizing code_cell rendered">
<div class="input">
<div class="prompt input_prompt">
In&nbsp;[17]:
</div>
<div class="inner_cell">
    <div class="input_area">
<div class=" highlight hl-ipython"><pre><span class="n">arr</span><span class="p">[:,</span> <span class="mi">0</span><span class="p">]</span>
</pre></div>

</div>
</div>
</div>

<div class="output_wrapper">
<div class="output">


<div class="output_area"><div class="prompt output_prompt">
    Out[17]:</div>


<div class="output_text output_subarea output_pyout">
<pre>array([1, 4, 7])</pre>
</div>

</div>

</div>
</div>

</div>
<div class="cell border-box-sizing code_cell rendered">
<div class="input">
<div class="prompt input_prompt">
In&nbsp;[18]:
</div>
<div class="inner_cell">
    <div class="input_area">
<div class=" highlight hl-ipython"><pre><span class="n">lst</span> <span class="o">=</span> <span class="p">[</span><span class="mi">1</span><span class="p">,</span> <span class="mi">4</span><span class="p">,</span> <span class="mi">7</span><span class="p">]</span>
</pre></div>

</div>
</div>
</div>

</div>
<div class="cell border-box-sizing code_cell rendered">
<div class="input">
<div class="prompt input_prompt">
In&nbsp;[20]:
</div>
<div class="inner_cell">
    <div class="input_area">
<div class=" highlight hl-ipython"><pre><span class="k">def</span> <span class="nf">sum_list</span><span class="p">(</span><span class="n">lst</span><span class="p">):</span>
    <span class="nb">sum</span> <span class="o">=</span> <span class="mi">0</span>
    <span class="k">for</span> <span class="n">el</span> <span class="ow">in</span> <span class="n">lst</span><span class="p">:</span>
        <span class="nb">sum</span> <span class="o">+=</span> <span class="n">el</span>
    <span class="k">return</span> <span class="nb">sum</span>
</pre></div>

</div>
</div>
</div>

</div>
<div class="cell border-box-sizing code_cell rendered">
<div class="input">
<div class="prompt input_prompt">
In&nbsp;[21]:
</div>
<div class="inner_cell">
    <div class="input_area">
<div class=" highlight hl-ipython"><pre><span class="n">sum_list</span><span class="p">(</span><span class="n">lst</span><span class="p">)</span>
</pre></div>

</div>
</div>
</div>

<div class="output_wrapper">
<div class="output">


<div class="output_area"><div class="prompt output_prompt">
    Out[21]:</div>


<div class="output_text output_subarea output_pyout">
<pre>12</pre>
</div>

</div>

</div>
</div>

</div>
<div class="cell border-box-sizing code_cell rendered">
<div class="input">
<div class="prompt input_prompt">
In&nbsp;[22]:
</div>
<div class="inner_cell">
    <div class="input_area">
<div class=" highlight hl-ipython"><pre><span class="n">big_lst</span> <span class="o">=</span> <span class="nb">range</span><span class="p">(</span><span class="mi">100000</span><span class="p">)</span>
</pre></div>

</div>
</div>
</div>

</div>
<div class="cell border-box-sizing code_cell rendered">
<div class="input">
<div class="prompt input_prompt">
In&nbsp;[23]:
</div>
<div class="inner_cell">
    <div class="input_area">
<div class=" highlight hl-ipython"><pre><span class="o">%</span><span class="k">timeit</span> <span class="n">sum_list</span><span class="p">(</span><span class="n">lst</span><span class="p">)</span>
</pre></div>

</div>
</div>
</div>

<div class="output_wrapper">
<div class="output">


<div class="output_area"><div class="prompt"></div>
<div class="output_subarea output_stream output_stdout output_text">
<pre>1000000 loops, best of 3: 506 ns per loop</pre>
</div>
</div>

</div>
</div>

</div>
<div class="cell border-box-sizing code_cell rendered">
<div class="input">
<div class="prompt input_prompt">
In&nbsp;[25]:
</div>
<div class="inner_cell">
    <div class="input_area">
<div class=" highlight hl-ipython"><pre><span class="n">big_lst</span> <span class="o">=</span> <span class="nb">range</span><span class="p">(</span><span class="mi">100000</span><span class="p">)</span>
</pre></div>

</div>
</div>
</div>

</div>
<div class="cell border-box-sizing code_cell rendered">
<div class="input">
<div class="prompt input_prompt">
In&nbsp;[26]:
</div>
<div class="inner_cell">
    <div class="input_area">
<div class=" highlight hl-ipython"><pre><span class="o">%</span><span class="k">timeit</span> <span class="n">sum_list</span><span class="p">(</span><span class="n">big_lst</span><span class="p">)</span>
</pre></div>

</div>
</div>
</div>

<div class="output_wrapper">
<div class="output">


<div class="output_area"><div class="prompt"></div>
<div class="output_subarea output_stream output_stdout output_text">
<pre>100 loops, best of 3: 7.01 ms per loop</pre>
</div>
</div>

</div>
</div>

</div>
<div class="cell border-box-sizing code_cell rendered">
<div class="input">
<div class="prompt input_prompt">
In&nbsp;[27]:
</div>
<div class="inner_cell">
    <div class="input_area">
<div class=" highlight hl-ipython"><pre><span class="n">arr</span> <span class="o">=</span> <span class="n">np</span><span class="o">.</span><span class="n">array</span><span class="p">(</span><span class="n">big_lst</span><span class="p">)</span>
</pre></div>

</div>
</div>
</div>

</div>
<div class="cell border-box-sizing code_cell rendered">
<div class="input">
<div class="prompt input_prompt">
In&nbsp;[28]:
</div>
<div class="inner_cell">
    <div class="input_area">
<div class=" highlight hl-ipython"><pre><span class="o">%</span><span class="k">timeit</span> <span class="n">sum_list</span><span class="p">(</span><span class="n">arr</span><span class="p">)</span>
</pre></div>

</div>
</div>
</div>

<div class="output_wrapper">
<div class="output">


<div class="output_area"><div class="prompt"></div>
<div class="output_subarea output_stream output_stdout output_text">
<pre>10 loops, best of 3: 70.7 ms per loop</pre>
</div>
</div>

</div>
</div>

</div>
<div class="cell border-box-sizing code_cell rendered">
<div class="input">
<div class="prompt input_prompt">
In&nbsp;[29]:
</div>
<div class="inner_cell">
    <div class="input_area">
<div class=" highlight hl-ipython"><pre><span class="o">%</span><span class="k">timeit</span> <span class="n">arr</span><span class="o">.</span><span class="n">sum</span><span class="p">()</span>
</pre></div>

</div>
</div>
</div>

<div class="output_wrapper">
<div class="output">


<div class="output_area"><div class="prompt"></div>
<div class="output_subarea output_stream output_stdout output_text">
<pre>10000 loops, best of 3: 77.9 us per loop</pre>
</div>
</div>

</div>
</div>

</div>
<div class="cell border-box-sizing code_cell rendered">
<div class="input">
<div class="prompt input_prompt">
In&nbsp;[30]:
</div>
<div class="inner_cell">
    <div class="input_area">
<div class=" highlight hl-ipython"><pre><span class="n">np</span><span class="o">.</span><span class="n">sum</span><span class="p">(</span><span class="n">arr</span><span class="p">)</span>
</pre></div>

</div>
</div>
</div>

<div class="output_wrapper">
<div class="output">


<div class="output_area"><div class="prompt output_prompt">
    Out[30]:</div>


<div class="output_text output_subarea output_pyout">
<pre>4999950000</pre>
</div>

</div>

</div>
</div>

</div>
<div class="cell border-box-sizing code_cell rendered">
<div class="input">
<div class="prompt input_prompt">
In&nbsp;[31]:
</div>
<div class="inner_cell">
    <div class="input_area">
<div class=" highlight hl-ipython"><pre><span class="n">np</span><span class="o">.</span><span class="n">sum</span><span class="p">(</span><span class="n">big_lst</span><span class="p">)</span>
</pre></div>

</div>
</div>
</div>

<div class="output_wrapper">
<div class="output">


<div class="output_area"><div class="prompt output_prompt">
    Out[31]:</div>


<div class="output_text output_subarea output_pyout">
<pre>4999950000</pre>
</div>

</div>

</div>
</div>

</div>
<div class="cell border-box-sizing code_cell rendered">
<div class="input">
<div class="prompt input_prompt">
In&nbsp;[32]:
</div>
<div class="inner_cell">
    <div class="input_area">
<div class=" highlight hl-ipython"><pre><span class="n">np</span><span class="o">.</span><span class="n">mean</span><span class="p">(</span><span class="n">big_lst</span><span class="p">)</span>
</pre></div>

</div>
</div>
</div>

<div class="output_wrapper">
<div class="output">


<div class="output_area"><div class="prompt output_prompt">
    Out[32]:</div>


<div class="output_text output_subarea output_pyout">
<pre>49999.5</pre>
</div>

</div>

</div>
</div>

</div>
<div class="cell border-box-sizing code_cell rendered">
<div class="input">
<div class="prompt input_prompt">
In&nbsp;[33]:
</div>
<div class="inner_cell">
    <div class="input_area">
<div class=" highlight hl-ipython"><pre><span class="n">np</span><span class="o">.</span><span class="n">std</span><span class="p">(</span><span class="n">big_lst</span><span class="p">)</span>
</pre></div>

</div>
</div>
</div>

<div class="output_wrapper">
<div class="output">


<div class="output_area"><div class="prompt output_prompt">
    Out[33]:</div>


<div class="output_text output_subarea output_pyout">
<pre>28867.513458037916</pre>
</div>

</div>

</div>
</div>

</div>
<div class="cell border-box-sizing code_cell rendered">
<div class="input">
<div class="prompt input_prompt">
In&nbsp;[34]:
</div>
<div class="inner_cell">
    <div class="input_area">
<div class=" highlight hl-ipython"><pre><span class="n">np</span><span class="o">.</span><span class="n">std</span><span class="err">?</span>
</pre></div>

</div>
</div>
</div>

</div>
<div class="cell border-box-sizing code_cell rendered">
<div class="input">
<div class="prompt input_prompt">
In&nbsp;[35]:
</div>
<div class="inner_cell">
    <div class="input_area">
<div class=" highlight hl-ipython"><pre><span class="n">np</span><span class="o">.</span><span class="n">std</span><span class="p">(</span><span class="n">big_lst</span><span class="p">,</span> <span class="n">ddof</span><span class="o">=</span><span class="mi">1</span><span class="p">)</span>
</pre></div>

</div>
</div>
</div>

<div class="output_wrapper">
<div class="output">


<div class="output_area"><div class="prompt output_prompt">
    Out[35]:</div>


<div class="output_text output_subarea output_pyout">
<pre>28867.657796687741</pre>
</div>

</div>

</div>
</div>

</div>
<div class="cell border-box-sizing code_cell rendered">
<div class="input">
<div class="prompt input_prompt">
In&nbsp;[36]:
</div>
<div class="inner_cell">
    <div class="input_area">
<div class=" highlight hl-ipython"><pre><span class="nb">range</span><span class="p">(</span><span class="mi">10</span><span class="p">)</span>
</pre></div>

</div>
</div>
</div>

<div class="output_wrapper">
<div class="output">


<div class="output_area"><div class="prompt output_prompt">
    Out[36]:</div>


<div class="output_text output_subarea output_pyout">
<pre>[0, 1, 2, 3, 4, 5, 6, 7, 8, 9]</pre>
</div>

</div>

</div>
</div>

</div>
<div class="cell border-box-sizing code_cell rendered">
<div class="input">
<div class="prompt input_prompt">
In&nbsp;[37]:
</div>
<div class="inner_cell">
    <div class="input_area">
<div class=" highlight hl-ipython"><pre><span class="n">np</span><span class="o">.</span><span class="n">arange</span><span class="p">(</span><span class="mi">10</span><span class="p">)</span>
</pre></div>

</div>
</div>
</div>

<div class="output_wrapper">
<div class="output">


<div class="output_area"><div class="prompt output_prompt">
    Out[37]:</div>


<div class="output_text output_subarea output_pyout">
<pre>array([0, 1, 2, 3, 4, 5, 6, 7, 8, 9])</pre>
</div>

</div>

</div>
</div>

</div>
<div class="cell border-box-sizing code_cell rendered">
<div class="input">
<div class="prompt input_prompt">
In&nbsp;[39]:
</div>
<div class="inner_cell">
    <div class="input_area">
<div class=" highlight hl-ipython"><pre><span class="n">np</span><span class="o">.</span><span class="n">arange</span><span class="p">(</span><span class="mi">10</span><span class="p">)</span>
</pre></div>

</div>
</div>
</div>

<div class="output_wrapper">
<div class="output">


<div class="output_area"><div class="prompt output_prompt">
    Out[39]:</div>


<div class="output_text output_subarea output_pyout">
<pre>array([0, 1, 2, 3, 4, 5, 6, 7, 8, 9])</pre>
</div>

</div>

</div>
</div>

</div>
<div class="cell border-box-sizing code_cell rendered">
<div class="input">
<div class="prompt input_prompt">
In&nbsp;[40]:
</div>
<div class="inner_cell">
    <div class="input_area">
<div class=" highlight hl-ipython"><pre><span class="n">np</span><span class="o">.</span><span class="n">arange</span><span class="p">(</span><span class="mi">9</span><span class="p">)</span>
</pre></div>

</div>
</div>
</div>

<div class="output_wrapper">
<div class="output">


<div class="output_area"><div class="prompt output_prompt">
    Out[40]:</div>


<div class="output_text output_subarea output_pyout">
<pre>array([0, 1, 2, 3, 4, 5, 6, 7, 8])</pre>
</div>

</div>

</div>
</div>

</div>
<div class="cell border-box-sizing code_cell rendered">
<div class="input">
<div class="prompt input_prompt">
In&nbsp;[42]:
</div>
<div class="inner_cell">
    <div class="input_area">
<div class=" highlight hl-ipython"><pre><span class="n">np</span><span class="o">.</span><span class="n">reshape</span><span class="err">?</span>
</pre></div>

</div>
</div>
</div>

</div>
<div class="cell border-box-sizing code_cell rendered">
<div class="input">
<div class="prompt input_prompt">
In&nbsp;[43]:
</div>
<div class="inner_cell">
    <div class="input_area">
<div class=" highlight hl-ipython"><pre><span class="n">np</span><span class="o">.</span><span class="n">reshape</span><span class="p">(</span><span class="n">np</span><span class="o">.</span><span class="n">arange</span><span class="p">(</span><span class="mi">9</span><span class="p">),</span> <span class="p">(</span><span class="mi">3</span><span class="p">,</span> <span class="mi">3</span><span class="p">))</span>
</pre></div>

</div>
</div>
</div>

<div class="output_wrapper">
<div class="output">


<div class="output_area"><div class="prompt output_prompt">
    Out[43]:</div>


<div class="output_text output_subarea output_pyout">
<pre>array([[0, 1, 2],
       [3, 4, 5],
       [6, 7, 8]])</pre>
</div>

</div>

</div>
</div>

</div>
<div class="cell border-box-sizing code_cell rendered">
<div class="input">
<div class="prompt input_prompt">
In&nbsp;[44]:
</div>
<div class="inner_cell">
    <div class="input_area">
<div class=" highlight hl-ipython"><pre><span class="n">np</span><span class="o">.</span><span class="n">zeros</span><span class="p">(</span><span class="mi">10</span><span class="p">)</span>
</pre></div>

</div>
</div>
</div>

<div class="output_wrapper">
<div class="output">


<div class="output_area"><div class="prompt output_prompt">
    Out[44]:</div>


<div class="output_text output_subarea output_pyout">
<pre>array([ 0.,  0.,  0.,  0.,  0.,  0.,  0.,  0.,  0.,  0.])</pre>
</div>

</div>

</div>
</div>

</div>
<div class="cell border-box-sizing code_cell rendered">
<div class="input">
<div class="prompt input_prompt">
In&nbsp;[45]:
</div>
<div class="inner_cell">
    <div class="input_area">
<div class=" highlight hl-ipython"><pre><span class="n">np</span><span class="o">.</span><span class="n">zeros</span><span class="p">((</span><span class="mi">3</span><span class="p">,</span> <span class="mi">2</span><span class="p">))</span>
</pre></div>

</div>
</div>
</div>

<div class="output_wrapper">
<div class="output">


<div class="output_area"><div class="prompt output_prompt">
    Out[45]:</div>


<div class="output_text output_subarea output_pyout">
<pre>array([[ 0.,  0.],
       [ 0.,  0.],
       [ 0.,  0.]])</pre>
</div>

</div>

</div>
</div>

</div>
<div class="cell border-box-sizing code_cell rendered">
<div class="input">
<div class="prompt input_prompt">
In&nbsp;[46]:
</div>
<div class="inner_cell">
    <div class="input_area">
<div class=" highlight hl-ipython"><pre><span class="n">np</span><span class="o">.</span><span class="n">eye</span><span class="p">(</span><span class="mi">10</span><span class="p">)</span>
</pre></div>

</div>
</div>
</div>

<div class="output_wrapper">
<div class="output">


<div class="output_area"><div class="prompt output_prompt">
    Out[46]:</div>


<div class="output_text output_subarea output_pyout">
<pre>array([[ 1.,  0.,  0.,  0.,  0.,  0.,  0.,  0.,  0.,  0.],
       [ 0.,  1.,  0.,  0.,  0.,  0.,  0.,  0.,  0.,  0.],
       [ 0.,  0.,  1.,  0.,  0.,  0.,  0.,  0.,  0.,  0.],
       [ 0.,  0.,  0.,  1.,  0.,  0.,  0.,  0.,  0.,  0.],
       [ 0.,  0.,  0.,  0.,  1.,  0.,  0.,  0.,  0.,  0.],
       [ 0.,  0.,  0.,  0.,  0.,  1.,  0.,  0.,  0.,  0.],
       [ 0.,  0.,  0.,  0.,  0.,  0.,  1.,  0.,  0.,  0.],
       [ 0.,  0.,  0.,  0.,  0.,  0.,  0.,  1.,  0.,  0.],
       [ 0.,  0.,  0.,  0.,  0.,  0.,  0.,  0.,  1.,  0.],
       [ 0.,  0.,  0.,  0.,  0.,  0.,  0.,  0.,  0.,  1.]])</pre>
</div>

</div>

</div>
</div>

</div>
<div class="cell border-box-sizing code_cell rendered">
<div class="input">
<div class="prompt input_prompt">
In&nbsp;[47]:
</div>
<div class="inner_cell">
    <div class="input_area">
<div class=" highlight hl-ipython"><pre><span class="n">np</span><span class="o">.</span><span class="n">diag</span><span class="p">(</span><span class="n">np</span><span class="o">.</span><span class="n">eye</span><span class="p">(</span><span class="mi">10</span><span class="p">))</span>
</pre></div>

</div>
</div>
</div>

<div class="output_wrapper">
<div class="output">


<div class="output_area"><div class="prompt output_prompt">
    Out[47]:</div>


<div class="output_text output_subarea output_pyout">
<pre>array([ 1.,  1.,  1.,  1.,  1.,  1.,  1.,  1.,  1.,  1.])</pre>
</div>

</div>

</div>
</div>

</div>
<div class="cell border-box-sizing code_cell rendered">
<div class="input">
<div class="prompt input_prompt">
In&nbsp;[48]:
</div>
<div class="inner_cell">
    <div class="input_area">
<div class=" highlight hl-ipython"><pre><span class="n">np</span><span class="o">.</span><span class="n">diag</span><span class="p">(</span><span class="n">np</span><span class="o">.</span><span class="n">diag</span><span class="p">(</span><span class="n">np</span><span class="o">.</span><span class="n">eye</span><span class="p">(</span><span class="mi">10</span><span class="p">)))</span>
</pre></div>

</div>
</div>
</div>

<div class="output_wrapper">
<div class="output">


<div class="output_area"><div class="prompt output_prompt">
    Out[48]:</div>


<div class="output_text output_subarea output_pyout">
<pre>array([[ 1.,  0.,  0.,  0.,  0.,  0.,  0.,  0.,  0.,  0.],
       [ 0.,  1.,  0.,  0.,  0.,  0.,  0.,  0.,  0.,  0.],
       [ 0.,  0.,  1.,  0.,  0.,  0.,  0.,  0.,  0.,  0.],
       [ 0.,  0.,  0.,  1.,  0.,  0.,  0.,  0.,  0.,  0.],
       [ 0.,  0.,  0.,  0.,  1.,  0.,  0.,  0.,  0.,  0.],
       [ 0.,  0.,  0.,  0.,  0.,  1.,  0.,  0.,  0.,  0.],
       [ 0.,  0.,  0.,  0.,  0.,  0.,  1.,  0.,  0.,  0.],
       [ 0.,  0.,  0.,  0.,  0.,  0.,  0.,  1.,  0.,  0.],
       [ 0.,  0.,  0.,  0.,  0.,  0.,  0.,  0.,  1.,  0.],
       [ 0.,  0.,  0.,  0.,  0.,  0.,  0.,  0.,  0.,  1.]])</pre>
</div>

</div>

</div>
</div>

</div>
<div class="cell border-box-sizing code_cell rendered">
<div class="input">
<div class="prompt input_prompt">
In&nbsp;[49]:
</div>
<div class="inner_cell">
    <div class="input_area">
<div class=" highlight hl-ipython"><pre><span class="n">np</span><span class="o">.</span><span class="n">diag</span><span class="p">([</span><span class="mi">1</span><span class="p">,</span> <span class="mi">6</span><span class="p">,</span> <span class="mi">4</span><span class="p">])</span>
</pre></div>

</div>
</div>
</div>

<div class="output_wrapper">
<div class="output">


<div class="output_area"><div class="prompt output_prompt">
    Out[49]:</div>


<div class="output_text output_subarea output_pyout">
<pre>array([[1, 0, 0],
       [0, 6, 0],
       [0, 0, 4]])</pre>
</div>

</div>

</div>
</div>

</div>
<div class="cell border-box-sizing code_cell rendered">
<div class="input">
<div class="prompt input_prompt">
In&nbsp;[51]:
</div>
<div class="inner_cell">
    <div class="input_area">
<div class=" highlight hl-ipython"><pre><span class="n">np</span><span class="o">.</span><span class="n">random</span><span class="o">.</span><span class="n">randn</span><span class="p">(</span><span class="mi">4</span><span class="p">,</span> <span class="mi">3</span><span class="p">)</span>
</pre></div>

</div>
</div>
</div>

<div class="output_wrapper">
<div class="output">


<div class="output_area"><div class="prompt output_prompt">
    Out[51]:</div>


<div class="output_text output_subarea output_pyout">
<pre>array([[ 0.45727794,  0.95308707, -0.67349952],
       [ 0.42982752,  1.84326079,  0.88624181],
       [ 0.09784898,  0.65451898,  1.1747724 ],
       [ 0.72163378, -0.02091747, -1.01356388]])</pre>
</div>

</div>

</div>
</div>

</div>
<div class="cell border-box-sizing code_cell rendered">
<div class="input">
<div class="prompt input_prompt">
In&nbsp;[52]:
</div>
<div class="inner_cell">
    <div class="input_area">
<div class=" highlight hl-ipython"><pre><span class="n">randn</span><span class="p">(</span><span class="mi">4</span><span class="p">,</span> <span class="mi">3</span><span class="p">)</span>
</pre></div>

</div>
</div>
</div>

<div class="output_wrapper">
<div class="output">


<div class="output_area"><div class="prompt output_prompt">
    Out[52]:</div>


<div class="output_text output_subarea output_pyout">
<pre>array([[-0.2567363 , -0.01732275,  1.41093738],
       [ 1.07042878, -0.21508292, -0.54726137],
       [ 0.12873854, -0.79321983,  0.15202132],
       [ 0.19978042, -1.87479486, -0.75646302]])</pre>
</div>

</div>

</div>
</div>

</div>
<div class="cell border-box-sizing code_cell rendered">
<div class="input">
<div class="prompt input_prompt">
In&nbsp;[54]:
</div>
<div class="inner_cell">
    <div class="input_area">
<div class=" highlight hl-ipython"><pre><span class="n">mat</span> <span class="o">=</span> <span class="n">np</span><span class="o">.</span><span class="n">reshape</span><span class="p">(</span><span class="n">np</span><span class="o">.</span><span class="n">arange</span><span class="p">(</span><span class="mi">9</span><span class="p">),</span> <span class="p">(</span><span class="mi">3</span><span class="p">,</span> <span class="mi">3</span><span class="p">))</span>
</pre></div>

</div>
</div>
</div>

</div>
<div class="cell border-box-sizing code_cell rendered">
<div class="input">
<div class="prompt input_prompt">
In&nbsp;[55]:
</div>
<div class="inner_cell">
    <div class="input_area">
<div class=" highlight hl-ipython"><pre><span class="n">mat</span>
</pre></div>

</div>
</div>
</div>

<div class="output_wrapper">
<div class="output">


<div class="output_area"><div class="prompt output_prompt">
    Out[55]:</div>


<div class="output_text output_subarea output_pyout">
<pre>array([[0, 1, 2],
       [3, 4, 5],
       [6, 7, 8]])</pre>
</div>

</div>

</div>
</div>

</div>
<div class="cell border-box-sizing code_cell rendered">
<div class="input">
<div class="prompt input_prompt">
In&nbsp;[56]:
</div>
<div class="inner_cell">
    <div class="input_area">
<div class=" highlight hl-ipython"><pre><span class="n">np</span><span class="o">.</span><span class="n">sum</span><span class="p">(</span><span class="n">mat</span><span class="p">)</span>
</pre></div>

</div>
</div>
</div>

<div class="output_wrapper">
<div class="output">


<div class="output_area"><div class="prompt output_prompt">
    Out[56]:</div>


<div class="output_text output_subarea output_pyout">
<pre>36</pre>
</div>

</div>

</div>
</div>

</div>
<div class="cell border-box-sizing code_cell rendered">
<div class="input">
<div class="prompt input_prompt">
In&nbsp;[57]:
</div>
<div class="inner_cell">
    <div class="input_area">
<div class=" highlight hl-ipython"><pre><span class="n">np</span><span class="o">.</span><span class="n">sum</span><span class="err">?</span>
</pre></div>

</div>
</div>
</div>

</div>
<div class="cell border-box-sizing code_cell rendered">
<div class="input">
<div class="prompt input_prompt">
In&nbsp;[58]:
</div>
<div class="inner_cell">
    <div class="input_area">
<div class=" highlight hl-ipython"><pre><span class="n">np</span><span class="o">.</span><span class="n">sum</span><span class="p">(</span><span class="n">mat</span><span class="p">,</span> <span class="n">axis</span><span class="o">=</span><span class="mi">0</span><span class="p">)</span>
</pre></div>

</div>
</div>
</div>

<div class="output_wrapper">
<div class="output">


<div class="output_area"><div class="prompt output_prompt">
    Out[58]:</div>


<div class="output_text output_subarea output_pyout">
<pre>array([ 9, 12, 15])</pre>
</div>

</div>

</div>
</div>

</div>
<div class="cell border-box-sizing code_cell rendered">
<div class="input">
<div class="prompt input_prompt">
In&nbsp;[59]:
</div>
<div class="inner_cell">
    <div class="input_area">
<div class=" highlight hl-ipython"><pre><span class="n">mat</span>
</pre></div>

</div>
</div>
</div>

<div class="output_wrapper">
<div class="output">


<div class="output_area"><div class="prompt output_prompt">
    Out[59]:</div>


<div class="output_text output_subarea output_pyout">
<pre>array([[0, 1, 2],
       [3, 4, 5],
       [6, 7, 8]])</pre>
</div>

</div>

</div>
</div>

</div>
<div class="cell border-box-sizing code_cell rendered">
<div class="input">
<div class="prompt input_prompt">
In&nbsp;[60]:
</div>
<div class="inner_cell">
    <div class="input_area">
<div class=" highlight hl-ipython"><pre><span class="n">np</span><span class="o">.</span><span class="n">sum</span><span class="p">(</span><span class="n">mat</span><span class="p">,</span> <span class="n">axis</span><span class="o">=</span><span class="mi">1</span><span class="p">)</span>
</pre></div>

</div>
</div>
</div>

<div class="output_wrapper">
<div class="output">


<div class="output_area"><div class="prompt output_prompt">
    Out[60]:</div>


<div class="output_text output_subarea output_pyout">
<pre>array([ 3, 12, 21])</pre>
</div>

</div>

</div>
</div>

</div>
<div class="cell border-box-sizing code_cell rendered">
<div class="input">
<div class="prompt input_prompt">
In&nbsp;[61]:
</div>
<div class="inner_cell">
    <div class="input_area">
<div class=" highlight hl-ipython"><pre><span class="n">mat</span>
</pre></div>

</div>
</div>
</div>

<div class="output_wrapper">
<div class="output">


<div class="output_area"><div class="prompt output_prompt">
    Out[61]:</div>


<div class="output_text output_subarea output_pyout">
<pre>array([[0, 1, 2],
       [3, 4, 5],
       [6, 7, 8]])</pre>
</div>

</div>

</div>
</div>

</div>
<div class="cell border-box-sizing code_cell rendered">
<div class="input">
<div class="prompt input_prompt">
In&nbsp;[62]:
</div>
<div class="inner_cell">
    <div class="input_area">
<div class=" highlight hl-ipython"><pre><span class="n">mat</span> <span class="o">+</span> <span class="mi">5</span>
</pre></div>

</div>
</div>
</div>

<div class="output_wrapper">
<div class="output">


<div class="output_area"><div class="prompt output_prompt">
    Out[62]:</div>


<div class="output_text output_subarea output_pyout">
<pre>array([[ 5,  6,  7],
       [ 8,  9, 10],
       [11, 12, 13]])</pre>
</div>

</div>

</div>
</div>

</div>
<div class="cell border-box-sizing code_cell rendered">
<div class="input">
<div class="prompt input_prompt">
In&nbsp;[63]:
</div>
<div class="inner_cell">
    <div class="input_area">
<div class=" highlight hl-ipython"><pre><span class="n">mat</span> <span class="o">*</span> <span class="mi">10</span>
</pre></div>

</div>
</div>
</div>

<div class="output_wrapper">
<div class="output">


<div class="output_area"><div class="prompt output_prompt">
    Out[63]:</div>


<div class="output_text output_subarea output_pyout">
<pre>array([[ 0, 10, 20],
       [30, 40, 50],
       [60, 70, 80]])</pre>
</div>

</div>

</div>
</div>

</div>
<div class="cell border-box-sizing code_cell rendered">
<div class="input">
<div class="prompt input_prompt">
In&nbsp;[64]:
</div>
<div class="inner_cell">
    <div class="input_area">
<div class=" highlight hl-ipython"><pre><span class="n">mat2</span> <span class="o">=</span> <span class="n">mat</span><span class="o">**</span><span class="mi">3</span>
</pre></div>

</div>
</div>
</div>

</div>
<div class="cell border-box-sizing code_cell rendered">
<div class="input">
<div class="prompt input_prompt">
In&nbsp;[65]:
</div>
<div class="inner_cell">
    <div class="input_area">
<div class=" highlight hl-ipython"><pre><span class="n">mat2</span>
</pre></div>

</div>
</div>
</div>

<div class="output_wrapper">
<div class="output">


<div class="output_area"><div class="prompt output_prompt">
    Out[65]:</div>


<div class="output_text output_subarea output_pyout">
<pre>array([[  0,   1,   8],
       [ 27,  64, 125],
       [216, 343, 512]])</pre>
</div>

</div>

</div>
</div>

</div>
<div class="cell border-box-sizing code_cell rendered">
<div class="input">
<div class="prompt input_prompt">
In&nbsp;[66]:
</div>
<div class="inner_cell">
    <div class="input_area">
<div class=" highlight hl-ipython"><pre><span class="n">mat</span> <span class="o">+</span> <span class="n">mat2</span>
</pre></div>

</div>
</div>
</div>

<div class="output_wrapper">
<div class="output">


<div class="output_area"><div class="prompt output_prompt">
    Out[66]:</div>


<div class="output_text output_subarea output_pyout">
<pre>array([[  0,   2,  10],
       [ 30,  68, 130],
       [222, 350, 520]])</pre>
</div>

</div>

</div>
</div>

</div>
<div class="cell border-box-sizing code_cell rendered">
<div class="input">
<div class="prompt input_prompt">
In&nbsp;[67]:
</div>
<div class="inner_cell">
    <div class="input_area">
<div class=" highlight hl-ipython"><pre><span class="n">mat</span>
</pre></div>

</div>
</div>
</div>

<div class="output_wrapper">
<div class="output">


<div class="output_area"><div class="prompt output_prompt">
    Out[67]:</div>


<div class="output_text output_subarea output_pyout">
<pre>array([[0, 1, 2],
       [3, 4, 5],
       [6, 7, 8]])</pre>
</div>

</div>

</div>
</div>

</div>
<div class="cell border-box-sizing code_cell rendered">
<div class="input">
<div class="prompt input_prompt">
In&nbsp;[69]:
</div>
<div class="inner_cell">
    <div class="input_area">
<div class=" highlight hl-ipython"><pre><span class="n">mat</span><span class="p">[</span><span class="mi">1</span><span class="p">:,</span> <span class="mi">1</span><span class="p">:]</span> <span class="o">+</span> <span class="n">mat2</span>
</pre></div>

</div>
</div>
</div>

<div class="output_wrapper">
<div class="output">


<div class="output_area"><div class="prompt"></div>
<div class="output_subarea output_text output_pyerr">
<pre>
<span class="ansired">---------------------------------------------------------------------------</span>
<span class="ansired">ValueError</span>                                Traceback (most recent call last)
<span class="ansigreen">/Users/ely/Downloads/classes/pydata_workshop_20121216/&lt;ipython-input-69-6b2e1601ecfe&gt;</span> in <span class="ansicyan">&lt;module&gt;</span><span class="ansiblue">()</span>
<span class="ansigreen">----&gt; 1</span><span class="ansired"> </span>mat<span class="ansiblue">[</span><span class="ansicyan">1</span><span class="ansiblue">:</span><span class="ansiblue">,</span> <span class="ansicyan">1</span><span class="ansiblue">:</span><span class="ansiblue">]</span> <span class="ansiblue">+</span> mat2<span class="ansiblue"></span>

<span class="ansired">ValueError</span>: operands could not be broadcast together with shapes (2,2) (3,3) </pre>
</div>
</div>

</div>
</div>

</div>
<div class="cell border-box-sizing code_cell rendered">
<div class="input">
<div class="prompt input_prompt">
In&nbsp;[70]:
</div>
<div class="inner_cell">
    <div class="input_area">
<div class=" highlight hl-ipython"><pre><span class="n">mat</span><span class="p">[:,</span> <span class="mi">0</span><span class="p">]</span>
</pre></div>

</div>
</div>
</div>

<div class="output_wrapper">
<div class="output">


<div class="output_area"><div class="prompt output_prompt">
    Out[70]:</div>


<div class="output_text output_subarea output_pyout">
<pre>array([0, 3, 6])</pre>
</div>

</div>

</div>
</div>

</div>
<div class="cell border-box-sizing code_cell rendered">
<div class="input">
<div class="prompt input_prompt">
In&nbsp;[71]:
</div>
<div class="inner_cell">
    <div class="input_area">
<div class=" highlight hl-ipython"><pre><span class="n">mat2</span>
</pre></div>

</div>
</div>
</div>

<div class="output_wrapper">
<div class="output">


<div class="output_area"><div class="prompt output_prompt">
    Out[71]:</div>


<div class="output_text output_subarea output_pyout">
<pre>array([[  0,   1,   8],
       [ 27,  64, 125],
       [216, 343, 512]])</pre>
</div>

</div>

</div>
</div>

</div>
<div class="cell border-box-sizing code_cell rendered">
<div class="input">
<div class="prompt input_prompt">
In&nbsp;[72]:
</div>
<div class="inner_cell">
    <div class="input_area">
<div class=" highlight hl-ipython"><pre><span class="n">mat</span><span class="p">[:,</span> <span class="mi">0</span><span class="p">]</span> <span class="o">+</span> <span class="n">mat2</span>
</pre></div>

</div>
</div>
</div>

<div class="output_wrapper">
<div class="output">


<div class="output_area"><div class="prompt output_prompt">
    Out[72]:</div>


<div class="output_text output_subarea output_pyout">
<pre>array([[  0,   4,  14],
       [ 27,  67, 131],
       [216, 346, 518]])</pre>
</div>

</div>

</div>
</div>

</div>
<div class="cell border-box-sizing code_cell rendered">
<div class="input">
<div class="prompt input_prompt">
In&nbsp;[73]:
</div>
<div class="inner_cell">
    <div class="input_area">
<div class=" highlight hl-ipython"><pre><span class="n">mat2</span><span class="o">.</span><span class="n">T</span>
</pre></div>

</div>
</div>
</div>

<div class="output_wrapper">
<div class="output">


<div class="output_area"><div class="prompt output_prompt">
    Out[73]:</div>


<div class="output_text output_subarea output_pyout">
<pre>array([[  0,  27, 216],
       [  1,  64, 343],
       [  8, 125, 512]])</pre>
</div>

</div>

</div>
</div>

</div>
<div class="cell border-box-sizing code_cell rendered">
<div class="input">
<div class="prompt input_prompt">
In&nbsp;[75]:
</div>
<div class="inner_cell">
    <div class="input_area">
<div class=" highlight hl-ipython"><pre><span class="n">mat</span><span class="p">[:,</span> <span class="mi">0</span><span class="p">]</span><span class="o">.</span><span class="n">T</span>
</pre></div>

</div>
</div>
</div>

<div class="output_wrapper">
<div class="output">


<div class="output_area"><div class="prompt output_prompt">
    Out[75]:</div>


<div class="output_text output_subarea output_pyout">
<pre>array([0, 3, 6])</pre>
</div>

</div>

</div>
</div>

</div>
<div class="cell border-box-sizing code_cell rendered">
<div class="input">
<div class="prompt input_prompt">
In&nbsp;[76]:
</div>
<div class="inner_cell">
    <div class="input_area">
<div class=" highlight hl-ipython"><pre><span class="n">mat2</span><span class="o">.</span><span class="n">shape</span>
</pre></div>

</div>
</div>
</div>

<div class="output_wrapper">
<div class="output">


<div class="output_area"><div class="prompt output_prompt">
    Out[76]:</div>


<div class="output_text output_subarea output_pyout">
<pre>(3, 3)</pre>
</div>

</div>

</div>
</div>

</div>
<div class="cell border-box-sizing code_cell rendered">
<div class="input">
<div class="prompt input_prompt">
In&nbsp;[77]:
</div>
<div class="inner_cell">
    <div class="input_area">
<div class=" highlight hl-ipython"><pre><span class="n">mat3</span> <span class="o">=</span> <span class="n">np</span><span class="o">.</span><span class="n">array</span><span class="p">([</span><span class="nb">range</span><span class="p">(</span><span class="mi">3</span><span class="p">),</span> <span class="nb">range</span><span class="p">(</span><span class="mi">3</span><span class="p">)])</span>
</pre></div>

</div>
</div>
</div>

</div>
<div class="cell border-box-sizing code_cell rendered">
<div class="input">
<div class="prompt input_prompt">
In&nbsp;[78]:
</div>
<div class="inner_cell">
    <div class="input_area">
<div class=" highlight hl-ipython"><pre><span class="n">mat3</span>
</pre></div>

</div>
</div>
</div>

<div class="output_wrapper">
<div class="output">


<div class="output_area"><div class="prompt output_prompt">
    Out[78]:</div>


<div class="output_text output_subarea output_pyout">
<pre>array([[0, 1, 2],
       [0, 1, 2]])</pre>
</div>

</div>

</div>
</div>

</div>
<div class="cell border-box-sizing code_cell rendered">
<div class="input">
<div class="prompt input_prompt">
In&nbsp;[79]:
</div>
<div class="inner_cell">
    <div class="input_area">
<div class=" highlight hl-ipython"><pre><span class="n">mat3</span><span class="o">.</span><span class="n">shape</span>
</pre></div>

</div>
</div>
</div>

<div class="output_wrapper">
<div class="output">


<div class="output_area"><div class="prompt output_prompt">
    Out[79]:</div>


<div class="output_text output_subarea output_pyout">
<pre>(2, 3)</pre>
</div>

</div>

</div>
</div>

</div>
<div class="cell border-box-sizing code_cell rendered">
<div class="input">
<div class="prompt input_prompt">
In&nbsp;[80]:
</div>
<div class="inner_cell">
    <div class="input_area">
<div class=" highlight hl-ipython"><pre><span class="n">lst</span>
</pre></div>

</div>
</div>
</div>

<div class="output_wrapper">
<div class="output">


<div class="output_area"><div class="prompt output_prompt">
    Out[80]:</div>


<div class="output_text output_subarea output_pyout">
<pre>[1, 4, 7]</pre>
</div>

</div>

</div>
</div>

</div>
<div class="cell border-box-sizing code_cell rendered">
<div class="input">
<div class="prompt input_prompt">
In&nbsp;[81]:
</div>
<div class="inner_cell">
    <div class="input_area">
<div class=" highlight hl-ipython"><pre><span class="n">lst</span> <span class="o">==</span> <span class="mi">4</span>
</pre></div>

</div>
</div>
</div>

<div class="output_wrapper">
<div class="output">


<div class="output_area"><div class="prompt output_prompt">
    Out[81]:</div>


<div class="output_text output_subarea output_pyout">
<pre>False</pre>
</div>

</div>

</div>
</div>

</div>
<div class="cell border-box-sizing code_cell rendered">
<div class="input">
<div class="prompt input_prompt">
In&nbsp;[82]:
</div>
<div class="inner_cell">
    <div class="input_area">
<div class=" highlight hl-ipython"><pre><span class="n">arr</span> <span class="o">=</span> <span class="n">np</span><span class="o">.</span><span class="n">array</span><span class="p">(</span><span class="n">lst</span><span class="p">)</span>
</pre></div>

</div>
</div>
</div>

</div>
<div class="cell border-box-sizing code_cell rendered">
<div class="input">
<div class="prompt input_prompt">
In&nbsp;[83]:
</div>
<div class="inner_cell">
    <div class="input_area">
<div class=" highlight hl-ipython"><pre><span class="n">arr</span>
</pre></div>

</div>
</div>
</div>

<div class="output_wrapper">
<div class="output">


<div class="output_area"><div class="prompt output_prompt">
    Out[83]:</div>


<div class="output_text output_subarea output_pyout">
<pre>array([1, 4, 7])</pre>
</div>

</div>

</div>
</div>

</div>
<div class="cell border-box-sizing code_cell rendered">
<div class="input">
<div class="prompt input_prompt">
In&nbsp;[84]:
</div>
<div class="inner_cell">
    <div class="input_area">
<div class=" highlight hl-ipython"><pre><span class="n">arr</span> <span class="o">==</span> <span class="mi">4</span>
</pre></div>

</div>
</div>
</div>

<div class="output_wrapper">
<div class="output">


<div class="output_area"><div class="prompt output_prompt">
    Out[84]:</div>


<div class="output_text output_subarea output_pyout">
<pre>array([False,  True, False], dtype=bool)</pre>
</div>

</div>

</div>
</div>

</div>
<div class="cell border-box-sizing code_cell rendered">
<div class="input">
<div class="prompt input_prompt">
In&nbsp;[85]:
</div>
<div class="inner_cell">
    <div class="input_area">
<div class=" highlight hl-ipython"><pre><span class="n">arr</span><span class="p">[</span><span class="mi">1</span><span class="p">]</span>
</pre></div>

</div>
</div>
</div>

<div class="output_wrapper">
<div class="output">


<div class="output_area"><div class="prompt output_prompt">
    Out[85]:</div>


<div class="output_text output_subarea output_pyout">
<pre>4</pre>
</div>

</div>

</div>
</div>

</div>
<div class="cell border-box-sizing code_cell rendered">
<div class="input">
<div class="prompt input_prompt">
In&nbsp;[87]:
</div>
<div class="inner_cell">
    <div class="input_area">
<div class=" highlight hl-ipython"><pre><span class="n">arr</span><span class="p">[:</span><span class="mi">2</span><span class="p">]</span>
</pre></div>

</div>
</div>
</div>

<div class="output_wrapper">
<div class="output">


<div class="output_area"><div class="prompt output_prompt">
    Out[87]:</div>


<div class="output_text output_subarea output_pyout">
<pre>array([1, 4])</pre>
</div>

</div>

</div>
</div>

</div>
<div class="cell border-box-sizing code_cell rendered">
<div class="input">
<div class="prompt input_prompt">
In&nbsp;[88]:
</div>
<div class="inner_cell">
    <div class="input_area">
<div class=" highlight hl-ipython"><pre><span class="n">arr</span><span class="p">[</span><span class="n">arr</span> <span class="o">==</span> <span class="mi">4</span><span class="p">]</span>
</pre></div>

</div>
</div>
</div>

<div class="output_wrapper">
<div class="output">


<div class="output_area"><div class="prompt output_prompt">
    Out[88]:</div>


<div class="output_text output_subarea output_pyout">
<pre>array([4])</pre>
</div>

</div>

</div>
</div>

</div>
<div class="cell border-box-sizing code_cell rendered">
<div class="input">
<div class="prompt input_prompt">
In&nbsp;[89]:
</div>
<div class="inner_cell">
    <div class="input_area">
<div class=" highlight hl-ipython"><pre><span class="n">arr</span> <span class="o">==</span> <span class="mi">4</span>
</pre></div>

</div>
</div>
</div>

<div class="output_wrapper">
<div class="output">


<div class="output_area"><div class="prompt output_prompt">
    Out[89]:</div>


<div class="output_text output_subarea output_pyout">
<pre>array([False,  True, False], dtype=bool)</pre>
</div>

</div>

</div>
</div>

</div>
<div class="cell border-box-sizing code_cell rendered">
<div class="input">
<div class="prompt input_prompt">
In&nbsp;[90]:
</div>
<div class="inner_cell">
    <div class="input_area">
<div class=" highlight hl-ipython"><pre><span class="n">arr</span> <span class="o">&gt;=</span> <span class="mi">4</span>
</pre></div>

</div>
</div>
</div>

<div class="output_wrapper">
<div class="output">


<div class="output_area"><div class="prompt output_prompt">
    Out[90]:</div>


<div class="output_text output_subarea output_pyout">
<pre>array([False,  True,  True], dtype=bool)</pre>
</div>

</div>

</div>
</div>

</div>
<div class="cell border-box-sizing code_cell rendered">
<div class="input">
<div class="prompt input_prompt">
In&nbsp;[91]:
</div>
<div class="inner_cell">
    <div class="input_area">
<div class=" highlight hl-ipython"><pre><span class="n">arr</span><span class="p">[</span><span class="n">arr</span> <span class="o">&gt;=</span> <span class="mi">4</span><span class="p">]</span>
</pre></div>

</div>
</div>
</div>

<div class="output_wrapper">
<div class="output">


<div class="output_area"><div class="prompt output_prompt">
    Out[91]:</div>


<div class="output_text output_subarea output_pyout">
<pre>array([4, 7])</pre>
</div>

</div>

</div>
</div>

</div>
<div class="cell border-box-sizing code_cell rendered">
<div class="input">
<div class="prompt input_prompt">
In&nbsp;[92]:
</div>
<div class="inner_cell">
    <div class="input_area">
<div class=" highlight hl-ipython"><pre><span class="c">#1: create 4x4 identity matrix, and set the 2nd row to be all 10s</span>
</pre></div>

</div>
</div>
</div>

</div>
<div class="cell border-box-sizing code_cell rendered">
<div class="input">
<div class="prompt input_prompt">
In&nbsp;[93]:
</div>
<div class="inner_cell">
    <div class="input_area">
<div class=" highlight hl-ipython"><pre><span class="c">#2: create 6x3 random matrix, and compute the column-wise sample standard deviation</span>
</pre></div>

</div>
</div>
</div>

</div>
<div class="cell border-box-sizing code_cell rendered">
<div class="input">
<div class="prompt input_prompt">
In&nbsp;[94]:
</div>
<div class="inner_cell">
    <div class="input_area">
<div class=" highlight hl-ipython"><pre><span class="n">ex_one</span> <span class="o">=</span> <span class="n">np</span><span class="o">.</span><span class="n">eye</span><span class="p">(</span><span class="mi">4</span><span class="p">)</span>
</pre></div>

</div>
</div>
</div>

</div>
<div class="cell border-box-sizing code_cell rendered">
<div class="input">
<div class="prompt input_prompt">
In&nbsp;[95]:
</div>
<div class="inner_cell">
    <div class="input_area">
<div class=" highlight hl-ipython"><pre><span class="n">ex_one</span>
</pre></div>

</div>
</div>
</div>

<div class="output_wrapper">
<div class="output">


<div class="output_area"><div class="prompt output_prompt">
    Out[95]:</div>


<div class="output_text output_subarea output_pyout">
<pre>array([[ 1.,  0.,  0.,  0.],
       [ 0.,  1.,  0.,  0.],
       [ 0.,  0.,  1.,  0.],
       [ 0.,  0.,  0.,  1.]])</pre>
</div>

</div>

</div>
</div>

</div>
<div class="cell border-box-sizing code_cell rendered">
<div class="input">
<div class="prompt input_prompt">
In&nbsp;[97]:
</div>
<div class="inner_cell">
    <div class="input_area">
<div class=" highlight hl-ipython"><pre><span class="n">ex_one</span><span class="p">[</span><span class="mi">1</span><span class="p">,</span> <span class="p">:]</span><span class="o">.</span><span class="n">shape</span>
</pre></div>

</div>
</div>
</div>

<div class="output_wrapper">
<div class="output">


<div class="output_area"><div class="prompt output_prompt">
    Out[97]:</div>


<div class="output_text output_subarea output_pyout">
<pre>(4,)</pre>
</div>

</div>

</div>
</div>

</div>
<div class="cell border-box-sizing code_cell rendered">
<div class="input">
<div class="prompt input_prompt">
In&nbsp;[98]:
</div>
<div class="inner_cell">
    <div class="input_area">
<div class=" highlight hl-ipython"><pre><span class="n">ex_one</span><span class="p">[</span><span class="mi">1</span><span class="p">,</span> <span class="p">:]</span> <span class="o">=</span> <span class="mi">10</span> <span class="o">*</span> <span class="n">np</span><span class="o">.</span><span class="n">ones</span><span class="p">(</span><span class="n">ex_one</span><span class="p">[</span><span class="mi">1</span><span class="p">,</span> <span class="p">:]</span><span class="o">.</span><span class="n">shape</span><span class="p">)</span>
</pre></div>

</div>
</div>
</div>

</div>
<div class="cell border-box-sizing code_cell rendered">
<div class="input">
<div class="prompt input_prompt">
In&nbsp;[99]:
</div>
<div class="inner_cell">
    <div class="input_area">
<div class=" highlight hl-ipython"><pre><span class="n">ex_one</span>
</pre></div>

</div>
</div>
</div>

<div class="output_wrapper">
<div class="output">


<div class="output_area"><div class="prompt output_prompt">
    Out[99]:</div>


<div class="output_text output_subarea output_pyout">
<pre>array([[  1.,   0.,   0.,   0.],
       [ 10.,  10.,  10.,  10.],
       [  0.,   0.,   1.,   0.],
       [  0.,   0.,   0.,   1.]])</pre>
</div>

</div>

</div>
</div>

</div>
<div class="cell border-box-sizing code_cell rendered">
<div class="input">
<div class="prompt input_prompt">
In&nbsp;[102]:
</div>
<div class="inner_cell">
    <div class="input_area">
<div class=" highlight hl-ipython"><pre><span class="n">ex_one</span><span class="p">[</span><span class="mi">1</span><span class="p">,</span> <span class="p">:]</span> <span class="o">=</span> <span class="mi">0</span>
</pre></div>

</div>
</div>
</div>

</div>
<div class="cell border-box-sizing code_cell rendered">
<div class="input">
<div class="prompt input_prompt">
In&nbsp;[104]:
</div>
<div class="inner_cell">
    <div class="input_area">
<div class=" highlight hl-ipython"><pre><span class="n">ex_one</span><span class="p">[</span><span class="mi">1</span><span class="p">,</span> <span class="p">:]</span> <span class="o">=</span> <span class="mi">10</span>
</pre></div>

</div>
</div>
</div>

</div>
<div class="cell border-box-sizing code_cell rendered">
<div class="input">
<div class="prompt input_prompt">
In&nbsp;[105]:
</div>
<div class="inner_cell">
    <div class="input_area">
<div class=" highlight hl-ipython"><pre><span class="n">ex_one</span>
</pre></div>

</div>
</div>
</div>

<div class="output_wrapper">
<div class="output">


<div class="output_area"><div class="prompt output_prompt">
    Out[105]:</div>


<div class="output_text output_subarea output_pyout">
<pre>array([[  1.,   0.,   0.,   0.],
       [ 10.,  10.,  10.,  10.],
       [  0.,   0.,   1.,   0.],
       [  0.,   0.,   0.,   1.]])</pre>
</div>

</div>

</div>
</div>

</div>
<div class="cell border-box-sizing code_cell rendered">
<div class="input">
<div class="prompt input_prompt">
In&nbsp;[106]:
</div>
<div class="inner_cell">
    <div class="input_area">
<div class=" highlight hl-ipython"><pre><span class="n">m2</span> <span class="o">=</span> <span class="n">np</span><span class="o">.</span><span class="n">random</span><span class="o">.</span><span class="n">randn</span><span class="p">(</span><span class="mi">6</span><span class="p">,</span> <span class="mi">3</span><span class="p">)</span>
</pre></div>

</div>
</div>
</div>

</div>
<div class="cell border-box-sizing code_cell rendered">
<div class="input">
<div class="prompt input_prompt">
In&nbsp;[107]:
</div>
<div class="inner_cell">
    <div class="input_area">
<div class=" highlight hl-ipython"><pre><span class="n">m2</span>
</pre></div>

</div>
</div>
</div>

<div class="output_wrapper">
<div class="output">


<div class="output_area"><div class="prompt output_prompt">
    Out[107]:</div>


<div class="output_text output_subarea output_pyout">
<pre>array([[-0.99288657,  2.29884659,  1.23340896],
       [ 1.20568734,  0.58893783, -1.19805267],
       [ 0.01238457, -0.89575218, -0.32703349],
       [-1.33648817, -1.41533797, -0.78696767],
       [-0.311132  , -1.35272218,  0.29392369],
       [-1.02919624, -0.01262656,  0.11126516]])</pre>
</div>

</div>

</div>
</div>

</div>
<div class="cell border-box-sizing code_cell rendered">
<div class="input">
<div class="prompt input_prompt">
In&nbsp;[108]:
</div>
<div class="inner_cell">
    <div class="input_area">
<div class=" highlight hl-ipython"><pre><span class="n">np</span><span class="o">.</span><span class="n">std</span><span class="p">(</span><span class="n">m2</span><span class="p">,</span> <span class="n">axis</span><span class="o">=</span><span class="mi">0</span><span class="p">,</span> <span class="n">ddof</span><span class="o">=</span><span class="mi">1</span><span class="p">)</span>
</pre></div>

</div>
</div>
</div>

<div class="output_wrapper">
<div class="output">


<div class="output_area"><div class="prompt output_prompt">
    Out[108]:</div>


<div class="output_text output_subarea output_pyout">
<pre>array([ 0.93596566,  1.42572445,  0.86093872])</pre>
</div>

</div>

</div>
</div>

</div>
<div class="cell border-box-sizing code_cell rendered">
<div class="input">
<div class="prompt input_prompt">
In&nbsp;[109]:
</div>
<div class="inner_cell">
    <div class="input_area">
<div class=" highlight hl-ipython"><pre><span class="k">def</span> <span class="nf">func</span><span class="p">(</span><span class="n">mat</span><span class="p">):</span>
    <span class="k">return</span> <span class="n">np</span><span class="o">.</span><span class="n">std</span><span class="p">(</span><span class="n">mat</span><span class="p">,</span> <span class="n">axis</span><span class="o">=</span><span class="mi">0</span><span class="p">,</span> <span class="n">ddof</span><span class="o">=</span><span class="mi">1</span><span class="p">)</span>
</pre></div>

</div>
</div>
</div>

</div>
<div class="cell border-box-sizing code_cell rendered">
<div class="input">
<div class="prompt input_prompt">
In&nbsp;[110]:
</div>
<div class="inner_cell">
    <div class="input_area">
<div class=" highlight hl-ipython"><pre><span class="n">mat</span> <span class="o">=</span> <span class="n">np</span><span class="o">.</span><span class="n">reshape</span><span class="p">(</span><span class="n">np</span><span class="o">.</span><span class="n">arange</span><span class="p">(</span><span class="mi">9</span><span class="p">),</span> <span class="p">(</span><span class="mi">3</span><span class="p">,</span> <span class="mi">3</span><span class="p">))</span>
<span class="n">mat</span>
</pre></div>

</div>
</div>
</div>

<div class="output_wrapper">
<div class="output">


<div class="output_area"><div class="prompt output_prompt">
    Out[110]:</div>


<div class="output_text output_subarea output_pyout">
<pre>array([[0, 1, 2],
       [3, 4, 5],
       [6, 7, 8]])</pre>
</div>

</div>

</div>
</div>

</div>
<div class="cell border-box-sizing code_cell rendered">
<div class="input">
<div class="prompt input_prompt">
In&nbsp;[112]:
</div>
<div class="inner_cell">
    <div class="input_area">
<div class=" highlight hl-ipython"><pre><span class="n">means</span> <span class="o">=</span> <span class="n">np</span><span class="o">.</span><span class="n">mean</span><span class="p">(</span><span class="n">mat</span><span class="p">,</span> <span class="n">axis</span><span class="o">=</span><span class="mi">0</span><span class="p">)</span>
<span class="n">means</span>
</pre></div>

</div>
</div>
</div>

<div class="output_wrapper">
<div class="output">


<div class="output_area"><div class="prompt output_prompt">
    Out[112]:</div>


<div class="output_text output_subarea output_pyout">
<pre>array([ 3.,  4.,  5.])</pre>
</div>

</div>

</div>
</div>

</div>
<div class="cell border-box-sizing code_cell rendered">
<div class="input">
<div class="prompt input_prompt">
In&nbsp;[114]:
</div>
<div class="inner_cell">
    <div class="input_area">
<div class=" highlight hl-ipython"><pre><span class="n">dev</span> <span class="o">=</span> <span class="n">mat</span> <span class="o">-</span> <span class="n">means</span>
</pre></div>

</div>
</div>
</div>

</div>
<div class="cell border-box-sizing code_cell rendered">
<div class="input">
<div class="prompt input_prompt">
In&nbsp;[115]:
</div>
<div class="inner_cell">
    <div class="input_area">
<div class=" highlight hl-ipython"><pre><span class="n">se</span> <span class="o">=</span> <span class="n">dev</span><span class="o">**</span><span class="mi">2</span>
</pre></div>

</div>
</div>
</div>

</div>
<div class="cell border-box-sizing code_cell rendered">
<div class="input">
<div class="prompt input_prompt">
In&nbsp;[118]:
</div>
<div class="inner_cell">
    <div class="input_area">
<div class=" highlight hl-ipython"><pre><span class="n">np</span><span class="o">.</span><span class="n">sum</span><span class="p">(</span><span class="n">se</span><span class="p">,</span> <span class="n">axis</span><span class="o">=</span><span class="mi">0</span><span class="p">)</span> <span class="o">/</span> <span class="p">(</span><span class="mi">3</span> <span class="o">-</span> <span class="mi">1</span><span class="p">)</span>
</pre></div>

</div>
</div>
</div>

<div class="output_wrapper">
<div class="output">


<div class="output_area"><div class="prompt output_prompt">
    Out[118]:</div>


<div class="output_text output_subarea output_pyout">
<pre>array([ 9.,  9.,  9.])</pre>
</div>

</div>

</div>
</div>

</div>
<div class="cell border-box-sizing code_cell rendered">
<div class="input">
<div class="prompt input_prompt">
In&nbsp;[120]:
</div>
<div class="inner_cell">
    <div class="input_area">
<div class=" highlight hl-ipython"><pre><span class="n">np</span><span class="o">.</span><span class="n">insert</span><span class="err">?</span>
</pre></div>

</div>
</div>
</div>

</div>
<div class="cell border-box-sizing code_cell rendered">
<div class="input">
<div class="prompt input_prompt">
In&nbsp;[]:
</div>
<div class="inner_cell">
    <div class="input_area">
<div class=" highlight hl-ipython"><pre> 
</pre></div>

</div>
</div>
</div>

</div>


     <!-- <hr/> -->
     <div class="row hidden-print">
      <div class="span12 text-center">
        <a href="#">Back to top</a>
      </div>
    </div>

     <!-- Footer
     ================================================== -->
      
      <footer class="footer hidden-print">
      <div class="span12 row-fluid footer-row">
          <div class="span4">
            <p>This web site does not host notebooks, it only renders notebooks available on other websites.</p>
          </div>

          <div class="span4">
            <p>Thanks to <a href="http://www.rackspace.com">Rackspace</a> for hosting.</p>
            <p>nbviewer GitHub <a href="https://github.com/ipython/nbviewer">repository</a>.</p>
            <p>nbviewer <a href="https://github.com/ipython/nbviewer/blob/master/LICENSE.txt" target="_blank">license</a>.</p>
          </div>

          <div class="span4">
            

              
                <p>
                    nbviewer version:
                    <a href="https://github.com/ipython/nbviewer/commit/f89be8b73d8b9febf6a30039cffaf70aac247d5e">f89be8b</a>
                </p>
              
            

<p class="text-muted">
    IPython version: 3.0.0-dev
    
    (<a href="https://github.com/ipython/ipython/commit/ae1c8e0">
      ae1c8e0
    </a>)
    
</p>


            

            

<p class="text-muted">
Rendered <span class='date' data-date='Mon, 07 Jul 2014 14:47:45 UTC' title='Mon, 07 Jul 2014 14:47:45 UTC'>(Mon, 07 Jul 2014 14:47:45 UTC)</span>
</p>


          </div>
      </div>
      </footer>
      

    </div><!-- /container -->

    <script src="/static/js/bootstrap-collapse.js"></script>
    <script src="/static/components/headroom.js/dist/headroom.min.js"></script>
    <script src="/static/components/headroom.js/dist/jQuery.headroom.min.js"></script>


    
    
    
    <script>
    $(document).ready(
                function(){
                    $("#menubar").headroom({
                        "tolerance": 5,
                        "offset": 205,
                        "classes": {
                            "initial": "animated",
                            "pinned": "slideInDown",
                            "unpinned": "slideOutUp"
                        }
                    })
                }
            );
    </script>


    <!-- Analytics
    ================================================== -->
    <script type="text/javascript">
      var _gaq = _gaq || [];
      _gaq.push(['_setAccount', 'UA-38683231-2']);
      _gaq.push(['_trackPageview']);

      (function() {
        var ga = document.createElement('script'); ga.type = 'text/javascript'; ga.async = true;
        ga.src = ('https:' == document.location.protocol ? 'https://ssl' : 'http://www') + '.google-analytics.com/ga.js';
        var s = document.getElementsByTagName('script')[0]; s.parentNode.insertBefore(ga, s);
      })();

    </script>
    <script>
        var update_date  = function(){
            var str = window.moment($('.date').data('date')).fromNow();
            $('.date').text(str);
        }
        setInterval(update_date , 61*1000);
        $(update_date);
    </script>
    <!--NEW RELIC Stop Perf Measurement-->
    
    <!--NEW RELIC End-->
  </body>
</html>